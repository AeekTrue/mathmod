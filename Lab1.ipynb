{
 "cells": [
  {
   "cell_type": "markdown",
   "metadata": {},
   "source": [
    "# Лабораторная работа №1"
   ]
  },
  {
   "cell_type": "markdown",
   "metadata": {},
   "source": [
    "## Здание №1.1"
   ]
  },
  {
   "cell_type": "code",
   "execution_count": null,
   "metadata": {},
   "outputs": [],
   "source": [
    "import numpy as np\n",
    "import matplotlib.pyplot as plt"
   ]
  },
  {
   "cell_type": "markdown",
   "metadata": {},
   "source": [
    "Найдем машинную бесконечность:"
   ]
  },
  {
   "cell_type": "code",
   "execution_count": null,
   "metadata": {},
   "outputs": [],
   "source": [
    "c = 2.0\n",
    "while np.isfinite(2*c):\n",
    "    c *= 2\n",
    "print(f\"Машинная бесконечность: {c:.3e}\")"
   ]
  },
  {
   "cell_type": "markdown",
   "metadata": {},
   "source": [
    "Найдем машиный ноль:"
   ]
  },
  {
   "cell_type": "code",
   "execution_count": null,
   "metadata": {},
   "outputs": [],
   "source": [
    "x = 1.0\n",
    "\n",
    "while x/2 > 0:\n",
    "    x /=2\n",
    "print(f\"Машинный ноль: {x}\")"
   ]
  },
  {
   "cell_type": "markdown",
   "metadata": {},
   "source": [
    "Найдем машинный эпсилон:"
   ]
  },
  {
   "cell_type": "code",
   "execution_count": null,
   "metadata": {},
   "outputs": [],
   "source": [
    "eps = 1.0\n",
    "while 1 + eps / 2 != 1:\n",
    "    eps /= 2\n",
    "print(f\"Машинный эпсилон: {eps}\")"
   ]
  },
  {
   "cell_type": "markdown",
   "metadata": {},
   "source": [
    "## Задача №1.2"
   ]
  },
  {
   "cell_type": "markdown",
   "metadata": {},
   "source": [
    "### Постановка задачи\n",
    "Исследовать поведение погрешности приближения функции $F(x)$ частичными суммами  на отрезке  $[a,b]$.\n",
    "\n",
    "$F(x) = x\\cos(x),\\ x\\in[1, 4]$\n"
   ]
  },
  {
   "cell_type": "markdown",
   "metadata": {},
   "source": [
    "### Решение\n",
    "Используя разложения стандартных функций в ряд Тейлора в окрестности нуля, получим\n",
    "разложение функции\n",
    "\n",
    "$F(x) = \\sum\\limits_{n=1}^{\\infty} \\dfrac{(-1)^{n+1}(2n + 1)}{n!}\n",
    "x^{2n - 1}\n",
    "$"
   ]
  },
  {
   "cell_type": "code",
   "execution_count": null,
   "metadata": {},
   "outputs": [],
   "source": [
    "def F(x):\n",
    "    return x * np.cos(x)\n",
    "\n",
    "def decompose(x):\n",
    "    '''\n",
    "    Итератор последовательно возвращает члены\n",
    "    разложения функции F(x) в ряд Тейлора.\n",
    "    '''\n",
    "    fact = 1.0\n",
    "    i = 1\n",
    "    while True:\n",
    "        k = (-1)**(i+1) * (2*i - 1)\n",
    "        yield k * x ** (2*i - 1) / fact\n",
    "        fact *= (2*i) * (2*i + 1)\n",
    "        i += 1\n",
    "\n",
    "def S(x, N):\n",
    "    '''\n",
    "    N-ая частичная сумма ряда Тейлора\n",
    "    для функции F(x). \n",
    "    '''\n",
    "    res = 0.0\n",
    "    decomposition = decompose(x)\n",
    "    for i in range(N):\n",
    "        e = next(decomposition)\n",
    "        res += e\n",
    "    return res"
   ]
  },
  {
   "cell_type": "code",
   "execution_count": null,
   "metadata": {},
   "outputs": [],
   "source": [
    "a = 1\n",
    "b = 4\n",
    "N = 5\n",
    "x = np.linspace(a, b, 1001, endpoint=True)\n",
    "y_F = F(x)\n",
    "y = [S(x, i) for i in range(0, N + 1)]\n"
   ]
  },
  {
   "cell_type": "markdown",
   "metadata": {},
   "source": [
    "Построим графики исходной функции и первых пяти частичных сумм: $S(x, 1),\\dots,S(x,5)$."
   ]
  },
  {
   "cell_type": "code",
   "execution_count": null,
   "metadata": {},
   "outputs": [],
   "source": [
    "plt.plot(x, y_F, \"k--\", linewidth=3, label=\"F(x)\")\n",
    "for i in range(1, N + 1):\n",
    "    plt.plot(x, y[i], label=f\"S(x, {i})\")\n",
    "\n",
    "plt.legend()"
   ]
  },
  {
   "cell_type": "code",
   "execution_count": null,
   "metadata": {},
   "outputs": [],
   "source": [
    "Dt = [abs(y[i] - y_F) for i in range(0, N + 1)]\n",
    "for i in range(1, N + 1):\n",
    "    plt.plot(x, Dt[i], label=f\"$\\Delta(x,{i})$\")\n",
    "plt.legend()"
   ]
  },
  {
   "cell_type": "code",
   "execution_count": null,
   "metadata": {},
   "outputs": [],
   "source": [
    "dt = [Dt[i] / abs(y[i]) for i in range(1, N + 1)]\n",
    "dt.insert(0, 0)\n",
    "for i in range(1, N + 1):\n",
    "    plt.plot(x, dt[i], label=f\"$\\delta(x,{i})$\")\n",
    "plt.legend(loc=2)"
   ]
  },
  {
   "cell_type": "markdown",
   "metadata": {},
   "source": [
    "5. Определить количество членов ряда N, при котором величина относительной погрешности  в средней  точке отрезка   станет меньше машинного эпсилон."
   ]
  },
  {
   "cell_type": "code",
   "execution_count": null,
   "metadata": {},
   "outputs": [],
   "source": [
    "center = (a + b) / 2\n",
    "decomposition = decompose(center)\n",
    "n = 1\n",
    "s = next(decomposition)\n",
    "nxt = next(decomposition)\n",
    "while abs(nxt / s) >= eps:\n",
    "    s += nxt\n",
    "    nxt = next(decomposition)\n",
    "    n += 1\n",
    "print('N =', n)"
   ]
  },
  {
   "cell_type": "code",
   "execution_count": null,
   "metadata": {},
   "outputs": [],
   "source": [
    "y_strong = S(x, n)\n",
    "Dt_strong = abs(y_strong - y_F)\n",
    "plt.plot(x, Dt_strong, 'r', linewidth=2, label=f'$\\Delta(x, {n})$')\n",
    "# plt.plot(x, y_strong, 'g')\n",
    "plt.legend()"
   ]
  },
  {
   "cell_type": "code",
   "execution_count": null,
   "metadata": {},
   "outputs": [],
   "source": [
    "dt_strong = Dt_strong / abs(y_strong)\n",
    "plt.plot(x, dt_strong, 'b', linewidth=2, label=f'$\\delta(x, {n})$')\n",
    "plt.legend()"
   ]
  }
 ],
 "metadata": {
  "kernelspec": {
   "display_name": "Python 3 (ipykernel)",
   "language": "python",
   "name": "python3"
  },
  "language_info": {
   "codemirror_mode": {
    "name": "ipython",
    "version": 3
   },
   "file_extension": ".py",
   "mimetype": "text/x-python",
   "name": "python",
   "nbconvert_exporter": "python",
   "pygments_lexer": "ipython3",
   "version": "3.10.12"
  }
 },
 "nbformat": 4,
 "nbformat_minor": 2
}
