{
 "cells": [
  {
   "cell_type": "markdown",
   "id": "c99351a4-d64d-4451-9774-33adc94a9ea6",
   "metadata": {},
   "source": [
    "# Задача 3.2"
   ]
  },
  {
   "cell_type": "markdown",
   "id": "6aa5ae8e-a6e1-4ea5-986f-c4397c22e1f6",
   "metadata": {},
   "source": [
    "Дана разреженная матрица A. Найти число обусловленности матрицы."
   ]
  },
  {
   "cell_type": "markdown",
   "id": "8895a237-1bd2-4b21-9d3b-e06d1b012aa0",
   "metadata": {},
   "source": [
    "## Решение"
   ]
  },
  {
   "cell_type": "code",
   "execution_count": 29,
   "id": "ec9fb1bd-5530-42cc-b8e3-65a6af9981b4",
   "metadata": {
    "collapsed": true,
    "jupyter": {
     "outputs_hidden": true,
     "source_hidden": true
    }
   },
   "outputs": [],
   "source": [
    "import numpy as np"
   ]
  },
  {
   "cell_type": "code",
   "execution_count": 317,
   "id": "e6659bac-fc10-448f-875d-59e5b3b1ef33",
   "metadata": {},
   "outputs": [],
   "source": [
    "N = 22\n",
    "m = 20\n",
    "eps = 10**(-10)"
   ]
  },
  {
   "cell_type": "markdown",
   "id": "bb2eccd2-8a27-466a-8072-d7ebaa4d0fe6",
   "metadata": {},
   "source": [
    "1. Зададим матрицу А согласно схеме из приложения: все ненулевые элементы матрицы равны $N$ ( номеру варианта), элементы главной диагонали равны  $N*m+m/N$,  $m$ - размерность матрицы."
   ]
  },
  {
   "cell_type": "code",
   "execution_count": 318,
   "id": "8b9e87c6-a17a-4562-9bfd-c911a93cb672",
   "metadata": {},
   "outputs": [],
   "source": [
    "A = np.eye(20, 20)\n",
    "A[:8,:4] = N\n",
    "A[8:14, 4:8] = N\n",
    "A[14:, :8] = N\n",
    "for i in range(8, m-1):\n",
    "    A[i, i+1:] = N\n",
    "for i in range(m):\n",
    "    A[i, i] = (N*m + m/N)"
   ]
  },
  {
   "cell_type": "markdown",
   "id": "8850c409-4b90-4d4e-b301-2867378e6873",
   "metadata": {},
   "source": [
    "2.Разработаем  и реализуем алгоритм решения системы с данной матрицей А  прямым методом с учетом нулевых элементов."
   ]
  },
  {
   "cell_type": "code",
   "execution_count": 332,
   "id": "f4c99ec6-8180-4540-bd9b-e45f24a1e3b1",
   "metadata": {},
   "outputs": [],
   "source": [
    "def zerofy(B, n):\n",
    "    \"\"\"Зануляет элеметны строки n, находящиеся под главной диагональю.\"\"\"\n",
    "    for i in range(0, n):\n",
    "        mu = B[n, i] / B[i, i]\n",
    "        B[n, :] -= mu * B[i, :]\n",
    "    return B\n",
    "\n",
    "def simplify(A, b):\n",
    "    \"\"\"Приводит разреженную матрицу А к двухдиагональному виду\"\"\"\n",
    "    B = np.concatenate((A, b), axis = 1)\n",
    "    for i in range(1, 8):\n",
    "        B[i-1, :] -= B[i, :]\n",
    "    for i in range(9, 20):\n",
    "        B[i-1, :] -= B[i, :]\n",
    "    B = zerofy(B, 7)\n",
    "    B = zerofy(B, 13)\n",
    "    B = zerofy(B, 19)\n",
    "    return B[:, :-1], B[:, -1]\n",
    "\n",
    "def backward(A, b):\n",
    "    \"\"\"Обратный ход для двухдиагональной матрицы\"\"\"\n",
    "    x = np.zeros_like(b)\n",
    "    x[-1] = b[-1] / A[-1, -1]\n",
    "    for i in range(b.size-2, -1, -1):\n",
    "        x[i] = (b[i] - A[i, i+1] * x[i+1]) / A[i, i]\n",
    "    return x\n",
    "\n",
    "def fast_solve(A, b):\n",
    "    return backward(*simplify(A, b))"
   ]
  },
  {
   "cell_type": "markdown",
   "id": "7410f857-6a77-4d76-912e-9e79be77db01",
   "metadata": {},
   "source": [
    "Выполним проверку взяв вектор $x$, состоящий из одинаковых элементов $33$:"
   ]
  },
  {
   "cell_type": "code",
   "execution_count": 333,
   "id": "b944f7f5-457a-42c0-bee8-fecf99859a0a",
   "metadata": {},
   "outputs": [
    {
     "data": {
      "text/plain": [
       "array([33., 33., 33., 33., 33., 33., 33., 33., 33., 33., 33., 33., 33., 33., 33., 33., 33., 33., 33., 33.])"
      ]
     },
     "execution_count": 333,
     "metadata": {},
     "output_type": "execute_result"
    }
   ],
   "source": [
    "x_root = np.ones((20, 1)) * 33\n",
    "x_root\n",
    "b = A.dot(x_root)\n",
    "fast_solve(A, b)"
   ]
  },
  {
   "cell_type": "code",
   "execution_count": 334,
   "id": "28039cbb-acfe-4072-9f38-e93b4e97a676",
   "metadata": {},
   "outputs": [
    {
     "data": {
      "text/plain": [
       "array([[ 419., -419.,    0.,    0.,    0.,    0.,    0.,    0.,    0.,    0.,    0.,    0.,    0.,    0.,    0.,    0.,    0.,    0.,    0.,    0.],\n",
       "       [   0.,  419., -419.,    0.,    0.,    0.,    0.,    0.,    0.,    0.,    0.,    0.,    0.,    0.,    0.,    0.,    0.,    0.,    0.,    0.],\n",
       "       [   0.,    0.,  419., -419.,    0.,    0.,    0.,    0.,    0.,    0.,    0.,    0.,    0.,    0.,    0.,    0.,    0.,    0.,    0.,    0.],\n",
       "       [   0.,    0.,    0.,  419., -441.,    0.,    0.,    0.,    0.,    0.,    0.,    0.,    0.,    0.,    0.,    0.,    0.,    0.,    0.,    0.],\n",
       "       [   0.,    0.,    0.,    0.,  441., -441.,    0.,    0.,    0.,    0.,    0.,    0.,    0.,    0.,    0.,    0.,    0.,    0.,    0.,    0.],\n",
       "       [   0.,    0.,    0.,    0.,    0.,  441., -441.,    0.,    0.,    0.,    0.,    0.,    0.,    0.,    0.,    0.,    0.,    0.,    0.,    0.],\n",
       "       [   0.,    0.,    0.,    0.,    0.,    0.,  441., -441.,    0.,    0.,    0.,    0.,    0.,    0.,    0.,    0.,    0.,    0.,    0.,    0.],\n",
       "       [   0.,    0.,    0.,    0.,    0.,    0.,    0.,  534.,    0.,    0.,    0.,    0.,    0.,    0.,    0.,    0.,    0.,    0.,    0.,    0.],\n",
       "       [   0.,    0.,    0.,    0.,    0.,    0.,    0.,    0.,  441., -419.,    0.,    0.,    0.,    0.,    0.,    0.,    0.,    0.,    0.,    0.],\n",
       "       [   0.,    0.,    0.,    0.,    0.,    0.,    0.,    0.,    0.,  441., -419.,    0.,    0.,    0.,    0.,    0.,    0.,    0.,    0.,    0.],\n",
       "       [   0.,    0.,    0.,    0.,    0.,    0.,    0.,    0.,    0.,    0.,  441., -419.,    0.,    0.,    0.,    0.,    0.,    0.,    0.,    0.],\n",
       "       [   0.,    0.,    0.,    0.,    0.,    0.,    0.,    0.,    0.,    0.,    0.,  441., -419.,    0.,    0.,    0.,    0.,    0.,    0.,    0.],\n",
       "       [   0.,    0.,    0.,    0.,    0.,    0.,    0.,    0.,    0.,    0.,    0.,    0.,  441., -419.,    0.,    0.,    0.,    0.,    0.,    0.],\n",
       "       [   0.,    0.,    0.,    0.,    0.,    0.,    0.,    0.,    0.,    0.,    0.,    0.,    0.,  441., -419.,    0.,    0.,    0.,    0.,    0.],\n",
       "       [   0.,    0.,    0.,    0.,    0.,    0.,    0.,    0.,    0.,    0.,    0.,    0.,    0.,    0.,  441., -419.,    0.,    0.,    0.,    0.],\n",
       "       [   0.,    0.,    0.,    0.,    0.,    0.,    0.,    0.,    0.,    0.,    0.,    0.,    0.,    0.,    0.,  441., -419.,    0.,    0.,    0.],\n",
       "       [   0.,    0.,    0.,    0.,    0.,    0.,    0.,    0.,    0.,    0.,    0.,    0.,    0.,    0.,    0.,    0.,  441., -419.,    0.,    0.],\n",
       "       [   0.,    0.,    0.,    0.,    0.,    0.,    0.,    0.,    0.,    0.,    0.,    0.,    0.,    0.,    0.,    0.,    0.,  441., -419.,    0.],\n",
       "       [   0.,    0.,    0.,    0.,    0.,    0.,    0.,    0.,    0.,    0.,    0.,    0.,    0.,    0.,    0.,    0.,    0.,    0.,  441., -419.],\n",
       "       [   0.,    0.,    0.,    0.,   -0.,    0.,    0.,    0.,    0.,    0.,    0.,    0.,    0.,    0.,    0.,    0.,    0.,    0.,    0.,  441.]])"
      ]
     },
     "execution_count": 334,
     "metadata": {},
     "output_type": "execute_result"
    }
   ],
   "source": [
    "np.round(simplify(A, b)[0])"
   ]
  },
  {
   "cell_type": "markdown",
   "id": "e66d3dbb-259f-412e-ab45-d2973d51f5c8",
   "metadata": {},
   "source": [
    "3. Напишим алгоритм для поиска обратной матрицы, основанный на решении уравнений $Ax^j=E^j$, где $E^j$ - столбцы единичной матрицы, проверим работоспособность:"
   ]
  },
  {
   "cell_type": "code",
   "execution_count": 34,
   "id": "bdc33a99-f0bc-4ad0-935a-b7599165b445",
   "metadata": {
    "collapsed": true,
    "jupyter": {
     "outputs_hidden": true
    }
   },
   "outputs": [],
   "source": [
    "def inv(A):\n",
    "    ans = np.eye(*A.shape)\n",
    "    for j in range(A.shape[1]):\n",
    "        ans[:, j] = fast_solve(A, ans[:, j].reshape(A.shape[0], 1))\n",
    "    return ans"
   ]
  },
  {
   "cell_type": "markdown",
   "id": "1694094a-2a38-4287-b449-10507f26221e",
   "metadata": {},
   "source": [
    "Проверим работоспособность алгоритма:"
   ]
  },
  {
   "cell_type": "code",
   "execution_count": 35,
   "id": "846ac89d-72bf-4c02-af19-099b30781a94",
   "metadata": {
    "collapsed": true,
    "jupyter": {
     "outputs_hidden": true
    }
   },
   "outputs": [
    {
     "data": {
      "text/plain": [
       "2.220446049250313e-16"
      ]
     },
     "execution_count": 35,
     "metadata": {},
     "output_type": "execute_result"
    }
   ],
   "source": [
    "np.max(np.abs(inv(A).dot(A) - np.eye(20, 20)))"
   ]
  },
  {
   "cell_type": "markdown",
   "id": "3bc8beae-ab02-4f56-a44c-efca7b075c2d",
   "metadata": {},
   "source": [
    "4. Найдем число обусловленности матрицы, используя евклидову норму:"
   ]
  },
  {
   "cell_type": "code",
   "execution_count": 36,
   "id": "0b73e307-5ba6-4f97-8319-8296af8b80fe",
   "metadata": {
    "collapsed": true,
    "jupyter": {
     "outputs_hidden": true
    }
   },
   "outputs": [
    {
     "name": "stdout",
     "output_type": "stream",
     "text": [
      "20.37275136439184\n"
     ]
    }
   ],
   "source": [
    "condA = np.linalg.norm(A) * np.linalg.norm(inv(A))\n",
    "print(condA)"
   ]
  },
  {
   "cell_type": "markdown",
   "id": "b4f81a40-e98f-4f40-8753-00c142460b5b",
   "metadata": {},
   "source": [
    "## Вывод\n",
    "1. Данная матрица является хорошо обусловленной т.к. $cond A < 100$;\n",
    "2. Трудоемкость метода составила:\n",
    "   - 57m вычитаний, 3m умножений - функция simplify;\n",
    "   - 3m вычитаний и умножений - функция backward\n",
    "   - Итого ~63m операций, т.е. сложность алгоритма - линейная."
   ]
  }
 ],
 "metadata": {
  "kernelspec": {
   "display_name": "Python 3 (ipykernel)",
   "language": "python",
   "name": "python3"
  },
  "language_info": {
   "codemirror_mode": {
    "name": "ipython",
    "version": 3
   },
   "file_extension": ".py",
   "mimetype": "text/x-python",
   "name": "python",
   "nbconvert_exporter": "python",
   "pygments_lexer": "ipython3",
   "version": "3.10.12"
  }
 },
 "nbformat": 4,
 "nbformat_minor": 5
}
