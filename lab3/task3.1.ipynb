{
 "cells": [
  {
   "cell_type": "markdown",
   "id": "6633cff9-d645-41e4-92f9-6c3c794e3300",
   "metadata": {},
   "source": [
    "# Задача 3.1 \n",
    "Реализовать решение СЛАУ с помощью LU разложения и LU разложения по схеме частичного выбора. Решить систему небольшой размерности с возмущенной матрицей обоими методами, оценить погрешность и сравнить с теоретической оценкой. Проанализировать поведение  методов с ростом числа уравнений."
   ]
  },
  {
   "cell_type": "markdown",
   "id": "f1ef3686-b8fd-481a-8c3a-8c19cc1e5ee0",
   "metadata": {},
   "source": [
    "$A_{ij} = \\arctan(0.1 (10i + j + 1)).$"
   ]
  },
  {
   "cell_type": "markdown",
   "id": "e1d49544-6607-4c4f-8cce-fb8d3578c375",
   "metadata": {},
   "source": [
    "Реализуем метод решения СЛАУ с помощью LU разложения."
   ]
  },
  {
   "cell_type": "code",
   "execution_count": 3,
   "id": "76368240-9a10-41c2-843c-fbb16023f6d0",
   "metadata": {},
   "outputs": [
    {
     "data": {
      "text/plain": [
       "'\\nрешение с помощью LU модифицирует исходную матрицу А; решение с помощью LU по схеме частичного выбора реализовано в виде двух функций, одна из которых возвращает две матрицы – L и U, не модифицируя A, а вторая функция решает систему.\\n'"
      ]
     },
     "execution_count": 3,
     "metadata": {},
     "output_type": "execute_result"
    }
   ],
   "source": [
    "'''\n",
    "решение с помощью LU модифицирует исходную матрицу А;\n",
    "решение с помощью LU по схеме частичного выбора реализовано в виде\n",
    "двух функций, одна из которых возвращает две матрицы – L и U,\n",
    "не модифицируя A, а вторая функция решает систему.\n",
    "'''"
   ]
  },
  {
   "cell_type": "code",
   "execution_count": null,
   "id": "1cc3d80a-d3df-4d10-bba7-992dea51c865",
   "metadata": {},
   "outputs": [],
   "source": []
  },
  {
   "cell_type": "code",
   "execution_count": null,
   "id": "b662fcfb-dd87-4166-b8f0-fac384c2a19b",
   "metadata": {},
   "outputs": [],
   "source": []
  },
  {
   "cell_type": "code",
   "execution_count": null,
   "id": "4baea3f8-457e-4cbb-af59-489fafa457b4",
   "metadata": {},
   "outputs": [],
   "source": []
  }
 ],
 "metadata": {
  "kernelspec": {
   "display_name": "Python 3 (ipykernel)",
   "language": "python",
   "name": "python3"
  },
  "language_info": {
   "codemirror_mode": {
    "name": "ipython",
    "version": 3
   },
   "file_extension": ".py",
   "mimetype": "text/x-python",
   "name": "python",
   "nbconvert_exporter": "python",
   "pygments_lexer": "ipython3",
   "version": "3.10.12"
  }
 },
 "nbformat": 4,
 "nbformat_minor": 5
}
