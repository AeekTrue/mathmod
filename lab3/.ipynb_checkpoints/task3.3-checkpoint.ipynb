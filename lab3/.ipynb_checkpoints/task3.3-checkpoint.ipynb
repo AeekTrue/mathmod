{
 "cells": [
  {
   "cell_type": "markdown",
   "id": "1f7ec93b-729a-4777-a738-760f330a4547",
   "metadata": {},
   "source": [
    "# Задача 3.3\n",
    "Дана система уравнений $Ax = b$"
   ]
  },
  {
   "cell_type": "code",
   "execution_count": 6,
   "id": "10244ae4-17d4-4502-9680-553895691648",
   "metadata": {},
   "outputs": [],
   "source": [
    "import numpy as np\n",
    "N = 22\n",
    "m = 20"
   ]
  },
  {
   "cell_type": "code",
   "execution_count": 7,
   "id": "ac1cc73f-60ce-440c-8b16-b94d47fc6c30",
   "metadata": {},
   "outputs": [],
   "source": [
    "A = np.eye(20, 20) * (N*m + m/N)"
   ]
  }
 ],
 "metadata": {
  "kernelspec": {
   "display_name": "Python 3 (ipykernel)",
   "language": "python",
   "name": "python3"
  },
  "language_info": {
   "codemirror_mode": {
    "name": "ipython",
    "version": 3
   },
   "file_extension": ".py",
   "mimetype": "text/x-python",
   "name": "python",
   "nbconvert_exporter": "python",
   "pygments_lexer": "ipython3",
   "version": "3.10.12"
  }
 },
 "nbformat": 4,
 "nbformat_minor": 5
}
