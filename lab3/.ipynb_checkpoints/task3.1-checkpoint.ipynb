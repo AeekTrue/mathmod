{
 "cells": [
  {
   "cell_type": "markdown",
   "id": "6633cff9-d645-41e4-92f9-6c3c794e3300",
   "metadata": {},
   "source": [
    "# Задача 3.1 \n",
    "Реализовать решение СЛАУ с помощью LU разложения и LU разложения по схеме частичного выбора. Решить систему небольшой размерности с возмущенной матрицей обоими методами, оценить погрешность и сравнить с теоретической оценкой. Проанализировать поведение  методов с ростом числа уравнений."
   ]
  },
  {
   "cell_type": "markdown",
   "id": "f1ef3686-b8fd-481a-8c3a-8c19cc1e5ee0",
   "metadata": {},
   "source": [
    "$A_{ij} = \\arctan(0.1 (10i + j + 1)).$"
   ]
  },
  {
   "cell_type": "markdown",
   "id": "e1d49544-6607-4c4f-8cce-fb8d3578c375",
   "metadata": {},
   "source": [
    "Реализуем метод решения СЛАУ с помощью LU разложения."
   ]
  },
  {
   "cell_type": "code",
   "execution_count": 67,
   "id": "76368240-9a10-41c2-843c-fbb16023f6d0",
   "metadata": {},
   "outputs": [
    {
     "data": {
      "text/plain": [
       "'\\nрешение с помощью LU модифицирует исходную матрицу А;\\nрешение с помощью LU по схеме частичного выбора реализовано в виде\\nдвух функций, одна из которых возвращает две матрицы – L и U,\\nне модифицируя A, а вторая функция решает систему.\\n'"
      ]
     },
     "execution_count": 67,
     "metadata": {},
     "output_type": "execute_result"
    }
   ],
   "source": [
    "'''\n",
    "решение с помощью LU модифицирует исходную матрицу А;\n",
    "решение с помощью LU по схеме частичного выбора реализовано в виде\n",
    "двух функций, одна из которых возвращает две матрицы – L и U,\n",
    "не модифицируя A, а вторая функция решает систему.\n",
    "'''"
   ]
  },
  {
   "cell_type": "code",
   "execution_count": 75,
   "id": "ae8a62a0-543b-419c-a82f-3e5b39bbb3e2",
   "metadata": {},
   "outputs": [
    {
     "data": {
      "text/plain": [
       "array([[0.09966865, 0.19739556, 0.29145679, 0.38050638, 0.46364761],\n",
       "       [0.83298127, 0.87605805, 0.9151007 , 0.95054684, 0.98279372],\n",
       "       [1.12637712, 1.14416883, 1.16066899, 1.17600521, 1.19028995],\n",
       "       [1.25875421, 1.26791146, 1.27656176, 1.28474489, 1.29249667],\n",
       "       [1.33156473, 1.33705315, 1.34229969, 1.34731973, 1.35212738]])"
      ]
     },
     "execution_count": 75,
     "metadata": {},
     "output_type": "execute_result"
    }
   ],
   "source": [
    "import numpy as np\n",
    "np.set_printoptions(linewidth=180)\n",
    "\n",
    "N = 22\n",
    "m = 5\n",
    "A = np.zeros((m, m))\n",
    "for i in range(m):\n",
    "    for j in range(m):\n",
    "        A[i][j] = np.arctan(0.1 * (10 * i + j + 1))\n",
    "x_root = np.ones((m, 1)) * N\n",
    "b = A.dot(x_root)\n",
    "A"
   ]
  },
  {
   "cell_type": "code",
   "execution_count": 79,
   "id": "719b3e58-83f9-421d-84a1-1d56ccc119b3",
   "metadata": {},
   "outputs": [],
   "source": [
    "def LU():\n",
    "    global A, b\n",
    "    for k in range(A.shape[0] - 1):\n",
    "        M = np.eye(*A.shape)\n",
    "        for i in range(k + 1, A.shape[0]):\n",
    "            M[i][k] = -A[i][k] / A[k][k]\n",
    "        A = M.dot(A)\n",
    "        b = M.dot(b)     \n",
    "\n",
    "def backward(A, b):\n",
    "    x = np.zeros_like(b)\n",
    "    x[-1, 0] = b[-1, 0] / A[-1][-1]\n",
    "    for i in range(b.size - 2, -1, -1):\n",
    "        x[i] = (b[i] - A[i].dot(x)) / A[i][i]\n",
    "    return x\n",
    "\n",
    "def LUmod(A):\n",
    "    pass\n"
   ]
  },
  {
   "cell_type": "code",
   "execution_count": 80,
   "id": "a7b3bcb3-54fa-4b63-9235-2cc212ae99de",
   "metadata": {},
   "outputs": [
    {
     "data": {
      "text/plain": [
       "array([[ 9.96686525e-02,  1.97395560e-01,  2.91456794e-01,  3.80506377e-01,  4.63647609e-01],\n",
       "       [ 0.00000000e+00, -7.73676338e-01, -1.52075093e+00, -2.22953713e+00, -2.89214351e+00],\n",
       "       [ 0.00000000e+00,  0.00000000e+00,  2.77240699e-03,  7.24195912e-03,  1.25712718e-02],\n",
       "       [ 0.00000000e+00,  0.00000000e+00,  0.00000000e+00, -4.47231004e-05, -1.61950600e-04],\n",
       "       [ 0.00000000e+00,  0.00000000e+00,  0.00000000e+00,  0.00000000e+00, -1.46702807e-06]])"
      ]
     },
     "execution_count": 80,
     "metadata": {},
     "output_type": "execute_result"
    }
   ],
   "source": [
    "LU()\n",
    "A"
   ]
  },
  {
   "cell_type": "code",
   "execution_count": 81,
   "id": "acedb28b-4d03-44b5-880f-b71661651900",
   "metadata": {},
   "outputs": [
    {
     "data": {
      "text/plain": [
       "array([[22.00000007],\n",
       "       [21.99999971],\n",
       "       [22.00000048],\n",
       "       [21.99999965],\n",
       "       [22.0000001 ]])"
      ]
     },
     "execution_count": 81,
     "metadata": {},
     "output_type": "execute_result"
    }
   ],
   "source": [
    "x = backward(A, b)\n",
    "x"
   ]
  },
  {
   "cell_type": "code",
   "execution_count": null,
   "id": "08c60851-0680-422f-bf82-fb550420304e",
   "metadata": {},
   "outputs": [],
   "source": [
    "A"
   ]
  }
 ],
 "metadata": {
  "kernelspec": {
   "display_name": "Python 3 (ipykernel)",
   "language": "python",
   "name": "python3"
  },
  "language_info": {
   "codemirror_mode": {
    "name": "ipython",
    "version": 3
   },
   "file_extension": ".py",
   "mimetype": "text/x-python",
   "name": "python",
   "nbconvert_exporter": "python",
   "pygments_lexer": "ipython3",
   "version": "3.10.12"
  }
 },
 "nbformat": 4,
 "nbformat_minor": 5
}
