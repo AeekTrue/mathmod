{
 "cells": [
  {
   "cell_type": "markdown",
   "id": "c35d51b4-6c6c-4bc5-97c7-fe454e08cd04",
   "metadata": {
    "jp-MarkdownHeadingCollapsed": true
   },
   "source": [
    "# Лабораторная работа №3\n",
    "## Левицкий Валентин А-13-22\n",
    "## Вариант №22"
   ]
  },
  {
   "cell_type": "markdown",
   "id": "d6fc7c52-a3f3-464b-a05d-c54c81849253",
   "metadata": {},
   "source": [
    "# Задача 3.1 \n",
    "Реализовать решение СЛАУ с помощью LU разложения и LU разложения по схеме частичного выбора. Решить систему небольшой размерности с возмущенной матрицей обоими методами, оценить погрешность и сравнить с теоретической оценкой. Проанализировать поведение  методов с ростом числа уравнений."
   ]
  },
  {
   "cell_type": "markdown",
   "id": "f82e15c8-4b66-45f0-9ad9-4bd9be6cf33c",
   "metadata": {},
   "source": [
    "$A_{ij} = \\arctan(0.1 (10i + j + 1)).$"
   ]
  },
  {
   "cell_type": "markdown",
   "id": "595858ed-b87a-4737-8dbb-b85be3821e12",
   "metadata": {},
   "source": [
    "## Решение"
   ]
  },
  {
   "cell_type": "markdown",
   "id": "b5dc369e-a833-4cae-9982-4e9f422c2b98",
   "metadata": {},
   "source": [
    "Зададим матрицу"
   ]
  },
  {
   "cell_type": "code",
   "execution_count": 1,
   "id": "0896b35e-9a18-406c-831b-8ea73175722e",
   "metadata": {
    "collapsed": true,
    "jupyter": {
     "outputs_hidden": true
    }
   },
   "outputs": [
    {
     "data": {
      "text/plain": [
       "array([[0.09966865, 0.19739556, 0.29145679, 0.38050638, 0.46364761],\n",
       "       [0.83298127, 0.87605805, 0.9151007 , 0.95054684, 0.98279372],\n",
       "       [1.12637712, 1.14416883, 1.16066899, 1.17600521, 1.19028995],\n",
       "       [1.25875421, 1.26791146, 1.27656176, 1.28474489, 1.29249667],\n",
       "       [1.33156473, 1.33705315, 1.34229969, 1.34731973, 1.35212738]])"
      ]
     },
     "execution_count": 1,
     "metadata": {},
     "output_type": "execute_result"
    }
   ],
   "source": [
    "import numpy as np\n",
    "import matplotlib.pyplot as plt\n",
    "np.set_printoptions(linewidth=180)\n",
    "\n",
    "N = 22\n",
    "m = 5\n",
    "def init_matr(m):\n",
    "    matr = np.zeros((m, m))\n",
    "    for i in range(m):\n",
    "        for j in range(m):\n",
    "            matr[i][j] = np.arctan(0.1 * (10 * i + j + 1))\n",
    "    return matr\n",
    "A = init_matr(5)\n",
    "x_root = np.ones((m, 1)) * N\n",
    "b = A.dot(x_root)\n",
    "A"
   ]
  },
  {
   "cell_type": "markdown",
   "id": "a3d2e0c5-d6d8-4cc9-86e4-145606fe4417",
   "metadata": {},
   "source": [
    "1. Реализуем метод решения СЛАУ с помощью LU разложения по схеме единственного деления, модифицирующий исходную матрицу A:"
   ]
  },
  {
   "cell_type": "code",
   "execution_count": 2,
   "id": "72f4209f-bae5-43f7-9545-dfa7ff103489",
   "metadata": {
    "collapsed": true,
    "jupyter": {
     "outputs_hidden": true,
     "source_hidden": true
    }
   },
   "outputs": [],
   "source": [
    "def Mi(A, k, is_l):\n",
    "    mi = np.eye(*A.shape)\n",
    "    for i in range(k + 1, A.shape[1]):\n",
    "        mi[i, k] = A[i, k] / A[k][k]\n",
    "        if is_l:\n",
    "            mi[i, k] *= -1\n",
    "    return mi\n",
    "\n",
    "def LU(A):\n",
    "    U = A.copy()\n",
    "    L = np.eye(*A.shape)\n",
    "    for j in range(0, A.shape[1] - 1):\n",
    "        L = L.dot(Mi(U, j, True))\n",
    "        U = Mi(U, j, False).dot(U)\n",
    "    return L, U\n",
    "\n",
    "def solve(A, b):\n",
    "    L, U = LU(A)\n",
    "    y = np.linalg.inv(L).dot(b)\n",
    "    x = np.linalg.inv(U).dot(y)\n",
    "    return x"
   ]
  },
  {
   "cell_type": "markdown",
   "id": "3e883d88-2310-46bb-809d-a5438c1c7e59",
   "metadata": {},
   "source": [
    "Убедимся в работоспособности метода:"
   ]
  },
  {
   "cell_type": "code",
   "execution_count": 3,
   "id": "0596709c-bf9a-4b48-85fe-068de3a1346a",
   "metadata": {
    "collapsed": true,
    "jupyter": {
     "outputs_hidden": true,
     "source_hidden": true
    }
   },
   "outputs": [
    {
     "data": {
      "text/plain": [
       "array([[21.99999858],\n",
       "       [21.99999432],\n",
       "       [22.00000455],\n",
       "       [21.99999708],\n",
       "       [22.00000076]])"
      ]
     },
     "execution_count": 3,
     "metadata": {},
     "output_type": "execute_result"
    }
   ],
   "source": [
    "x = solve(A, b)\n",
    "x"
   ]
  },
  {
   "cell_type": "markdown",
   "id": "bcd1393f-8110-4746-811d-2a6c8eabe2bf",
   "metadata": {},
   "source": [
    "2. Реализуем метод решения СЛАУ с помощью LU разложения по схеме частичного выбора в виде двух функций, одна из которых возвращает две матрицы – L и U, не модифицируя A, а вторая функция решает систему"
   ]
  },
  {
   "cell_type": "code",
   "execution_count": 4,
   "id": "b0072c4f-0d09-4034-b817-684ceed54b15",
   "metadata": {
    "collapsed": true,
    "jupyter": {
     "outputs_hidden": true,
     "source_hidden": true
    }
   },
   "outputs": [],
   "source": [
    "def Mimod(A, k, is_l):\n",
    "    mi = np.eye(*A.shape)\n",
    "    P = np.eye(*A.shape)\n",
    "    mx = k + np.argmax(np.abs(A[k:, k]))\n",
    "    P[[k, mx]] = P[[mx, k]]\n",
    "    A = P.dot(A)\n",
    "    for i in range(k + 1, A.shape[1]):\n",
    "        mi[i, k] = A[i, k] / A[k][k]\n",
    "        if is_l:\n",
    "            mi[i, k] *= -1\n",
    "    return mi\n",
    "\n",
    "def LUmod(A):\n",
    "    U = A.copy()\n",
    "    L = np.eye(*A.shape)\n",
    "    for j in range(0, A.shape[1] - 1):\n",
    "        L = L.dot(Mimod(U, j, True))\n",
    "        U = Mimod(U, j, False).dot(U)\n",
    "    return L, U\n",
    "\n",
    "def solvemod(A, b):\n",
    "    L, U = LUmod(A)\n",
    "    y = np.linalg.inv(L) @ b\n",
    "    x = np.linalg.inv(U) @ y\n",
    "    return x"
   ]
  },
  {
   "cell_type": "markdown",
   "id": "3e74c92a-a92d-488f-9725-0003d979c70b",
   "metadata": {},
   "source": [
    "Убедимся в работоспособности метода:"
   ]
  },
  {
   "cell_type": "code",
   "execution_count": 5,
   "id": "838444c7-7d75-4803-91d4-0c1c36a7199e",
   "metadata": {
    "collapsed": true,
    "jupyter": {
     "outputs_hidden": true,
     "source_hidden": true
    }
   },
   "outputs": [
    {
     "data": {
      "text/plain": [
       "array([[21.99999899],\n",
       "       [22.00000122],\n",
       "       [21.9999998 ],\n",
       "       [22.00000025],\n",
       "       [21.99999979]])"
      ]
     },
     "execution_count": 5,
     "metadata": {},
     "output_type": "execute_result"
    }
   ],
   "source": [
    "x = solvemod(A, b)\n",
    "x"
   ]
  },
  {
   "cell_type": "markdown",
   "id": "28f7c893-44cb-4b98-a8ae-d7b6ec04fcef",
   "metadata": {},
   "source": [
    "3. Решим систему  $A^*x = b$, размера 5 x 5, двумя методами. $A^*$ зададим как $A$ и к одному элементу прибавим $10^{-3}$  "
   ]
  },
  {
   "cell_type": "code",
   "execution_count": 8,
   "id": "1643c847-675a-438e-a015-5f0934938a34",
   "metadata": {
    "collapsed": true,
    "jupyter": {
     "outputs_hidden": true,
     "source_hidden": true
    }
   },
   "outputs": [],
   "source": [
    "A_star  = A.copy()\n",
    "A_star[3, 3] += 0.001\n",
    "x1 = solve(A_star, b)\n",
    "x2 = solvemod(A_star, b)"
   ]
  },
  {
   "cell_type": "markdown",
   "id": "2efedaa4-8647-4025-a554-4022e0102695",
   "metadata": {},
   "source": [
    "4. Вычислим погрешности и сравним с теоретической оценкой."
   ]
  },
  {
   "cell_type": "code",
   "execution_count": 9,
   "id": "df85d41b-492f-4bc1-b1a8-35d6e0985822",
   "metadata": {
    "collapsed": true,
    "jupyter": {
     "outputs_hidden": true,
     "source_hidden": true
    }
   },
   "outputs": [
    {
     "name": "stdout",
     "output_type": "stream",
     "text": [
      "dx1 = 0.8568133540395394\n",
      "dx2 = 0.8568133535739584\n",
      "Теоретическая оценка: 56493.659253590085\n"
     ]
    }
   ],
   "source": [
    "Dx1 = np.linalg.norm(x_root - x1)\n",
    "Dx2 = np.linalg.norm(x_root - x2)\n",
    "DA = np.linalg.norm(A - A_star)\n",
    "dx1 = Dx1 / np.linalg.norm(x_root)\n",
    "dx2 = Dx2 / np.linalg.norm(x_root)\n",
    "dA = DA / np.linalg.norm(A)\n",
    "condA = np.linalg.norm(A) * np.linalg.norm(np.linalg.inv(A))\n",
    "d_hat = condA * DA\n",
    "print(f'{dx1 = }')\n",
    "print(f'{dx2 = }')\n",
    "print(f'Теоретическая оценка: {d_hat}')"
   ]
  },
  {
   "cell_type": "markdown",
   "id": "360830d8-2c1a-4ff6-b50e-c92af1cddb63",
   "metadata": {},
   "source": [
    "Погрешность решений полученых обоими методами находится в пределах теоретической оценки."
   ]
  },
  {
   "cell_type": "markdown",
   "id": "1c084b75-b589-4569-805f-336aca94df94",
   "metadata": {},
   "source": [
    "5. Решим систему обоими методами для матриц большей размерности."
   ]
  },
  {
   "cell_type": "code",
   "execution_count": 10,
   "id": "f9116bd8-abbd-4409-940a-73b7dac5b90a",
   "metadata": {
    "collapsed": true,
    "jupyter": {
     "outputs_hidden": true,
     "source_hidden": true
    }
   },
   "outputs": [
    {
     "data": {
      "text/plain": [
       "Text(0.5, 1.0, 'Погрешность решений для систем разных размеров')"
      ]
     },
     "execution_count": 10,
     "metadata": {},
     "output_type": "execute_result"
    },
    {
     "data": {
      "image/png": "[encoded data removed]",
      "text/plain": [
       "<Figure size 640x480 with 1 Axes>"
      ]
     },
     "metadata": {},
     "output_type": "display_data"
    }
   ],
   "source": [
    "dts1 = []\n",
    "dts2 = []\n",
    "for n in range(5, 16):\n",
    "    M = init_matr(n)\n",
    "    x_root = np.ones((n, 1)) * N\n",
    "    b = M.dot(x_root)\n",
    "    x1 = solve(M, b)\n",
    "    x2 = solvemod(M, b)\n",
    "    dts1.append(np.linalg.norm(x_root - x1))\n",
    "    dts2.append(np.linalg.norm(x_root - x2))\n",
    "X = np.arange(5, 16)\n",
    "plt.plot(X, dts1, label='Схема единственного деления')\n",
    "plt.plot(X, dts2, label='Схема частичного выбора')\n",
    "plt.legend()\n",
    "plt.title('Погрешность решений для систем разных размеров')"
   ]
  },
  {
   "cell_type": "markdown",
   "id": "2dd6e213-0fd8-4e15-8e77-77579415b058",
   "metadata": {},
   "source": [
    "Из графиков видно, что погрешность прямых методов возрастает с размерами системы."
   ]
  },
  {
   "cell_type": "markdown",
   "id": "12614e03-12e5-420b-a314-330cd6eef8bd",
   "metadata": {
    "jp-MarkdownHeadingCollapsed": true
   },
   "source": [
    "# Задача 3.2"
   ]
  },
  {
   "cell_type": "markdown",
   "id": "2bbd736f-2270-4565-aa7f-09a107550111",
   "metadata": {},
   "source": [
    "Дана разреженная матрица A. Найти число обусловленности матрицы."
   ]
  },
  {
   "cell_type": "markdown",
   "id": "d901ffff-14fe-43a7-92e3-6b33a585de82",
   "metadata": {},
   "source": [
    "## Решение"
   ]
  },
  {
   "cell_type": "code",
   "execution_count": 29,
   "id": "83579864-8ec3-470c-802b-889bdcc17c9a",
   "metadata": {
    "collapsed": true,
    "jupyter": {
     "outputs_hidden": true,
     "source_hidden": true
    }
   },
   "outputs": [],
   "source": [
    "import numpy as np"
   ]
  },
  {
   "cell_type": "code",
   "execution_count": 30,
   "id": "65c6d885-fa13-4b1d-9149-c7c6dce7b5dc",
   "metadata": {
    "collapsed": true,
    "jupyter": {
     "outputs_hidden": true,
     "source_hidden": true
    }
   },
   "outputs": [],
   "source": [
    "N = 22\n",
    "m = 20\n",
    "eps = 10**(-10)"
   ]
  },
  {
   "cell_type": "markdown",
   "id": "242cce73-cc3f-4c43-9e5a-ef53335f138f",
   "metadata": {},
   "source": [
    "1. Зададим матрицу А согласно схеме из приложения: все ненулевые элементы матрицы равны $N$ ( номеру варианта), элементы главной диагонали равны  $N*m+m/N$,  $m$ - размерность матрицы."
   ]
  },
  {
   "cell_type": "code",
   "execution_count": 31,
   "id": "4949e77c-e931-4d94-b9f0-5bf74a2f069e",
   "metadata": {
    "collapsed": true,
    "jupyter": {
     "outputs_hidden": true
    }
   },
   "outputs": [],
   "source": [
    "A = np.eye(20, 20)\n",
    "A[:8,:4] = N\n",
    "A[8:14, 4:8] = N\n",
    "A[14:, :8] = N\n",
    "for i in range(8, m-1):\n",
    "    A[i, i+1:] = N\n",
    "for i in range(m):\n",
    "    A[i, i] = (N*m + m/N)"
   ]
  },
  {
   "cell_type": "markdown",
   "id": "8e36728e-9b6a-4f50-9ae2-a1cfb184fae2",
   "metadata": {},
   "source": [
    "2.Разработаем  и реализуем алгоритм решения системы с данной матрицей А  прямым методом с учетом нулевых элементов."
   ]
  },
  {
   "cell_type": "code",
   "execution_count": 32,
   "id": "b02275e8-1b03-4c09-81e0-8de242706a3e",
   "metadata": {
    "collapsed": true,
    "jupyter": {
     "outputs_hidden": true
    }
   },
   "outputs": [],
   "source": [
    "def zerofy(B, n):\n",
    "    \"\"\"Зануляет элеметны строки n, находящиеся под главной диагональю.\"\"\"\n",
    "    for i in range(0, n):\n",
    "        mu = B[n, i] / B[i, i]\n",
    "        B[n, :] -= mu * B[i, :]\n",
    "    return B\n",
    "\n",
    "def simplify(A, b):\n",
    "    \"\"\"Приводит разреженную матрицу А к двухдиагональному виду\"\"\"\n",
    "    B = np.concatenate((A, b), axis = 1)\n",
    "    for i in range(1, 8):\n",
    "        B[i-1, :] -= B[i, :]\n",
    "    for i in range(9, 20):\n",
    "        B[i-1, :] -= B[i, :]\n",
    "    B = zerofy(B, 7)\n",
    "    B = zerofy(B, 13)\n",
    "    B = zerofy(B, 19)\n",
    "    return B[:, :-1], B[:, -1]\n",
    "\n",
    "def backward(A, b):\n",
    "    \"\"\"Обратный ход для двухдиагональной матрицы\"\"\"\n",
    "    x = np.zeros_like(b)\n",
    "    x[-1] = b[-1] / A[-1, -1]\n",
    "    for i in range(b.size-2, -1, -1):\n",
    "        x[i] = (b[i] - A[i, i+1] * x[i+1]) / A[i, i]\n",
    "    return x\n",
    "\n",
    "def fast_solve(A, b):\n",
    "    return backward(*simplify(A, b))"
   ]
  },
  {
   "cell_type": "markdown",
   "id": "f524605a-90f5-4e52-9629-3e524d32d444",
   "metadata": {},
   "source": [
    "Выполним проверку взяв вектор $x$, состоящий из одинаковых элементов $33$:"
   ]
  },
  {
   "cell_type": "code",
   "execution_count": 33,
   "id": "1cd700a4-6bf9-4d2c-834b-faac432e0485",
   "metadata": {},
   "outputs": [
    {
     "data": {
      "text/plain": [
       "array([33., 33., 33., 33., 33., 33., 33., 33., 33., 33., 33., 33., 33.,\n",
       "       33., 33., 33., 33., 33., 33., 33.])"
      ]
     },
     "execution_count": 33,
     "metadata": {},
     "output_type": "execute_result"
    }
   ],
   "source": [
    "x_root = np.ones((20, 1)) * 33\n",
    "x_root\n",
    "b = A.dot(x_root)\n",
    "fast_solve(A, b)"
   ]
  },
  {
   "cell_type": "markdown",
   "id": "3d403738-9458-4195-994e-850f430226d5",
   "metadata": {},
   "source": [
    "3. Напишим алгоритм для поиска обратной матрицы, основанный на решении уравнений $Ax^j=E^j$, где $E^j$ - столбцы единичной матрицы, проверим работоспособность:"
   ]
  },
  {
   "cell_type": "code",
   "execution_count": 34,
   "id": "98e1bee3-cfc4-41cd-b7c3-6f4e5bc5053e",
   "metadata": {
    "collapsed": true,
    "jupyter": {
     "outputs_hidden": true
    }
   },
   "outputs": [],
   "source": [
    "def inv(A):\n",
    "    ans = np.eye(*A.shape)\n",
    "    for j in range(A.shape[1]):\n",
    "        ans[:, j] = fast_solve(A, ans[:, j].reshape(A.shape[0], 1))\n",
    "    return ans"
   ]
  },
  {
   "cell_type": "markdown",
   "id": "9494458c-7163-43c4-ae5f-fa58f9cf7938",
   "metadata": {},
   "source": [
    "Проверим работоспособность алгоритма:"
   ]
  },
  {
   "cell_type": "code",
   "execution_count": 35,
   "id": "a2fdf580-e5d2-4d5e-bab3-fcc9b4128fec",
   "metadata": {},
   "outputs": [
    {
     "data": {
      "text/plain": [
       "2.220446049250313e-16"
      ]
     },
     "execution_count": 35,
     "metadata": {},
     "output_type": "execute_result"
    }
   ],
   "source": [
    "np.max(np.abs(inv(A).dot(A) - np.eye(20, 20)))"
   ]
  },
  {
   "cell_type": "markdown",
   "id": "eff45c87-36af-458b-8362-545e4d7238bb",
   "metadata": {},
   "source": [
    "4. Найдем число обусловленности матрицы, используя евклидову норму:"
   ]
  },
  {
   "cell_type": "code",
   "execution_count": 36,
   "id": "6a425aa3-28b3-4c5c-883d-2930b1239d23",
   "metadata": {},
   "outputs": [
    {
     "name": "stdout",
     "output_type": "stream",
     "text": [
      "20.37275136439184\n"
     ]
    }
   ],
   "source": [
    "condA = np.linalg.norm(A) * np.linalg.norm(inv(A))\n",
    "print(condA)"
   ]
  },
  {
   "cell_type": "markdown",
   "id": "88878071-d8d7-4b4d-b5a6-5a0952b6e230",
   "metadata": {
    "jp-MarkdownHeadingCollapsed": true
   },
   "source": [
    "## Вывод\n",
    "1. Данная матрица является хорошо обусловленной т.к. $cond A < 100$;\n",
    "2. Трудоемкость метода составила:\n",
    "   - 57m вычитаний, 3m умножений - функция simplify;\n",
    "   - 3m вычитаний и умножений - функция backward\n",
    "   - Итого ~63m операций, т.е. сложность алгоритма - линейная."
   ]
  },
  {
   "cell_type": "markdown",
   "id": "d12e5749-c1a3-4c7c-a53b-a121f67c507e",
   "metadata": {
    "jp-MarkdownHeadingCollapsed": true
   },
   "source": [
    "# Задача 3.3\n",
    "Дана система уравнений $Ax = b$. Решить  систему методом Якоби с точностью $\\varepsilon = 10^{-10}$.   "
   ]
  },
  {
   "cell_type": "code",
   "execution_count": 37,
   "id": "b0f47d44-a06b-4bc4-9801-554a3c6a6662",
   "metadata": {},
   "outputs": [],
   "source": [
    "import numpy as np\n",
    "import matplotlib.pyplot as plt\n",
    "N = 22\n",
    "m = 20\n",
    "eps = 10**(-10)"
   ]
  },
  {
   "cell_type": "markdown",
   "id": "4dbec808-7c07-40f5-b575-0877bbc4b37a",
   "metadata": {},
   "source": [
    "1. Составим программу преобразования системы $Ax = b$ к виду $x = Bx + c$."
   ]
  },
  {
   "cell_type": "code",
   "execution_count": 38,
   "id": "3d3152f1-7748-400a-b15b-ada061004719",
   "metadata": {},
   "outputs": [],
   "source": [
    "A = np.eye(20, 20) * 1 #(N*m + m/N)\n",
    "A[:8,:4] = N\n",
    "A[8:14, 4:8] = N\n",
    "A[14:, :8] = N\n",
    "for i in range(8, m-1):\n",
    "    A[i, i+1:] = N\n",
    "for i in range(m):\n",
    "    A[i, i] = (N*m + m/N)\n",
    "\n",
    "b = np.zeros((20, 1))\n",
    "b[:,0] = np.abs(N - 25) + 5"
   ]
  },
  {
   "cell_type": "code",
   "execution_count": 39,
   "id": "f5f80a7a-4e90-4d09-835f-5acd97b9f489",
   "metadata": {},
   "outputs": [],
   "source": [
    "def Jacobi(A, b):\n",
    "    '''\n",
    "    Перобразует СЛАУ Ax=b\n",
    "    к виду x = Bx + c.\n",
    "    '''\n",
    "    B = np.zeros_like(A)\n",
    "    c = np.zeros_like(b)\n",
    "    for i in range(A.shape[1]):\n",
    "        B[i, :] = -A[i, :] / A[i, i]\n",
    "        B[i, i] = 0\n",
    "        c[i,0] = b[i,0] / A[i, i]\n",
    "    return B, c\n",
    "\n",
    "def inf_norm(A):\n",
    "    return np.max(np.sum(np.abs(A), axis=1))\n",
    "\n",
    "def euclid_norm(A):\n",
    "    return np.sqrt(np.sum(A**2))\n",
    "    "
   ]
  },
  {
   "cell_type": "markdown",
   "id": "388e5f8c-bc85-4cd6-89d6-87708d781de3",
   "metadata": {},
   "source": [
    "Убедимся, что выполнено достаточное условие сходимости метода: $||B|| < 1$"
   ]
  },
  {
   "cell_type": "code",
   "execution_count": 40,
   "id": "fdf1e2e2-0a3a-41b7-9d64-981000850ce4",
   "metadata": {},
   "outputs": [
    {
     "data": {
      "text/plain": [
       "0.6428766787355629"
      ]
     },
     "execution_count": 40,
     "metadata": {},
     "output_type": "execute_result"
    }
   ],
   "source": [
    "B, c = Jacobi(A, b)\n",
    "np.linalg.norm(B)"
   ]
  },
  {
   "cell_type": "markdown",
   "id": "9925e39e-cbc1-473b-8ca5-d3a26a013ee2",
   "metadata": {},
   "source": [
    "Составим программу метода простых итераций с подсчетом нормы вектора невязки на каждой итерации."
   ]
  },
  {
   "cell_type": "code",
   "execution_count": 44,
   "id": "25cae0da-2de8-4199-8862-bd6a4aecce44",
   "metadata": {},
   "outputs": [],
   "source": [
    "def MPI(A, b, eps):\n",
    "    B, c = Jacobi(A, b)\n",
    "    x0 = c\n",
    "    x1 = B.dot(x0) + c\n",
    "    iters = 1\n",
    "    r_n = []\n",
    "    k = (1 - inf_norm(B)) / inf_norm(B)\n",
    "    while inf_norm(x1 - x0) > k * eps:\n",
    "        r_n.append(euclid_norm(A.dot(x1) - b))\n",
    "        x0 = x1\n",
    "        x1 = B.dot(x1) + c\n",
    "        iters +=1\n",
    "    print(\"Выполнено итераций: \", iters)\n",
    "    return x1, np.array(r_n)"
   ]
  },
  {
   "cell_type": "markdown",
   "id": "46722666",
   "metadata": {},
   "source": [
    "2. Найдем решение задачи с заданной точностью."
   ]
  },
  {
   "cell_type": "code",
   "execution_count": 45,
   "id": "d96fb052-fac1-4f31-a32f-11d7d1fa4d1e",
   "metadata": {},
   "outputs": [
    {
     "name": "stdout",
     "output_type": "stream",
     "text": [
      "Выполнено итераций:  13\n"
     ]
    }
   ],
   "source": [
    "x, r_n = MPI(A, b, eps)"
   ]
  },
  {
   "cell_type": "markdown",
   "id": "e9023878-7dcc-4e1f-84c6-6324a74951f5",
   "metadata": {},
   "source": [
    "Подставим найденое решение в исходное уравнение и убедимся в корректности метода:"
   ]
  },
  {
   "cell_type": "code",
   "execution_count": 48,
   "id": "c5ab89d3-37e0-4cb9-b926-24c5cba2a9ea",
   "metadata": {
    "scrolled": true
   },
   "outputs": [
    {
     "data": {
      "text/plain": [
       "array([[8., 8., 8., 8., 8., 8., 8., 8., 8., 8., 8., 8., 8., 8., 8., 8.,\n",
       "        8., 8., 8., 8.]])"
      ]
     },
     "execution_count": 48,
     "metadata": {},
     "output_type": "execute_result"
    }
   ],
   "source": [
    "A.dot(x).T"
   ]
  },
  {
   "cell_type": "markdown",
   "id": "a5881763-9d09-4c2a-92f2-fdff32ad56ce",
   "metadata": {},
   "source": [
    "Нормы векторов невязки по итерациям:"
   ]
  },
  {
   "cell_type": "code",
   "execution_count": 47,
   "id": "a7841e26-fee1-42e9-a92a-16dabc4968bb",
   "metadata": {
    "scrolled": true
   },
   "outputs": [
    {
     "data": {
      "image/png": "[encoded data removed]",
      "text/plain": [
       "<Figure size 640x480 with 1 Axes>"
      ]
     },
     "metadata": {},
     "output_type": "display_data"
    }
   ],
   "source": [
    "plt.plot(np.arange(1, r_n.size + 1), r_n)\n",
    "plt.title('$||r_n||_e$')\n",
    "plt.savefig(\"report/fig331.eps\")"
   ]
  },
  {
   "cell_type": "code",
   "execution_count": null,
   "id": "a61fcb3f-3f9a-42a6-b81b-80fe4063321d",
   "metadata": {},
   "outputs": [],
   "source": []
  }
 ],
 "metadata": {
  "kernelspec": {
   "display_name": "Python 3 (ipykernel)",
   "language": "python",
   "name": "python3"
  },
  "language_info": {
   "codemirror_mode": {
    "name": "ipython",
    "version": 3
   },
   "file_extension": ".py",
   "mimetype": "text/x-python",
   "name": "python",
   "nbconvert_exporter": "python",
   "pygments_lexer": "ipython3",
   "version": "3.10.12"
  }
 },
 "nbformat": 4,
 "nbformat_minor": 5
}
