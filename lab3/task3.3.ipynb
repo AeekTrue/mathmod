{
 "cells": [
  {
   "cell_type": "markdown",
   "id": "1f7ec93b-729a-4777-a738-760f330a4547",
   "metadata": {},
   "source": [
    "# Задача 3.3\n",
    "Дана система уравнений $Ax = b$"
   ]
  },
  {
   "cell_type": "code",
   "execution_count": 134,
   "id": "10244ae4-17d4-4502-9680-553895691648",
   "metadata": {},
   "outputs": [],
   "source": [
    "import numpy as np\n",
    "np.set_printoptions(linewidth=180, precision=8)\n",
    "N = 22\n",
    "m = 20\n",
    "eps = 10**(-10)"
   ]
  },
  {
   "cell_type": "code",
   "execution_count": 135,
   "id": "ac1cc73f-60ce-440c-8b16-b94d47fc6c30",
   "metadata": {},
   "outputs": [],
   "source": [
    "A = np.eye(20, 20) * 1 #(N*m + m/N)\n",
    "A[:8,:4] = N\n",
    "A[8:14, 4:8] = N\n",
    "A[14:, :8] = N\n",
    "for i in range(8, m-1):\n",
    "    A[i, i+1:] = N\n",
    "for i in range(m):\n",
    "    A[i, i] = (N*m + m/N)\n",
    "\n",
    "b = np.zeros((20, 1))\n",
    "b[:,0] = np.abs(N - 25) + 5"
   ]
  },
  {
   "cell_type": "code",
   "execution_count": 136,
   "id": "c0778ac1-d73d-40fc-ada6-21f2e326f196",
   "metadata": {},
   "outputs": [
    {
     "data": {
      "text/plain": [
       "20"
      ]
     },
     "execution_count": 136,
     "metadata": {},
     "output_type": "execute_result"
    }
   ],
   "source": [
    "A.shape[1]"
   ]
  },
  {
   "cell_type": "code",
   "execution_count": 158,
   "id": "00fa6a08-0739-439e-8ea2-8ed7236540fb",
   "metadata": {},
   "outputs": [],
   "source": [
    "def Jacobi(A, b):\n",
    "    '''\n",
    "    Перобразует СЛАУ Ax=b\n",
    "    к виду x = Bx + c.\n",
    "    '''\n",
    "    B = np.zeros_like(A)\n",
    "    c = np.zeros_like(b)\n",
    "    for i in range(A.shape[1]):\n",
    "        B[i, :] = -A[i, :] / A[i, i]\n",
    "        B[i, i] = 0\n",
    "        c[i,0] = b[i,0] / A[i, i]\n",
    "    return B, c\n",
    "\n",
    "def inf_norm(A):\n",
    "    return np.max(np.sum(np.abs(A), axis=1))\n",
    "\n",
    "def euclid_norm(A):\n",
    "    return np.sqrt(sum(A**2))\n",
    "\n",
    "def MPI(A, b, eps):\n",
    "    B, c = Jacobi(A, b)\n",
    "    x0 = c\n",
    "    x1 = B.dot(x0) + c\n",
    "    iters = 1\n",
    "    r_n = []\n",
    "    k = (1 - inf_norm(B)) / inf_norm(B)\n",
    "    while inf_norm(x1 - x0) > k * eps:\n",
    "        r_n.append(euclid_norm(A.dot(x1) - b))\n",
    "        x0 = x1\n",
    "        x1 = B.dot(x1) + c\n",
    "        iters +=1\n",
    "    return x1, iters, np.array(r_n)"
   ]
  },
  {
   "cell_type": "code",
   "execution_count": 160,
   "id": "6386875f-580d-4fbf-86f9-36e6f95e7dc3",
   "metadata": {},
   "outputs": [],
   "source": [
    "x, iters, r_n = MPI(A, b, eps)"
   ]
  },
  {
   "cell_type": "code",
   "execution_count": 161,
   "id": "fa5442e3-5222-4753-b221-d3e914924fe8",
   "metadata": {},
   "outputs": [
    {
     "data": {
      "text/plain": [
       "1.5438388345501153e-09"
      ]
     },
     "execution_count": 161,
     "metadata": {},
     "output_type": "execute_result"
    }
   ],
   "source": [
    "inf_norm(np.dot(A, x) - b) "
   ]
  },
  {
   "cell_type": "code",
   "execution_count": 162,
   "id": "113f57a3-4770-417b-99a8-23c6f24ff441",
   "metadata": {
    "scrolled": true
   },
   "outputs": [
    {
     "data": {
      "text/plain": [
       "array([[8.],\n",
       "       [8.],\n",
       "       [8.],\n",
       "       [8.],\n",
       "       [8.],\n",
       "       [8.],\n",
       "       [8.],\n",
       "       [8.],\n",
       "       [8.],\n",
       "       [8.],\n",
       "       [8.],\n",
       "       [8.],\n",
       "       [8.],\n",
       "       [8.],\n",
       "       [8.],\n",
       "       [8.],\n",
       "       [8.],\n",
       "       [8.],\n",
       "       [8.],\n",
       "       [8.]])"
      ]
     },
     "execution_count": 162,
     "metadata": {},
     "output_type": "execute_result"
    }
   ],
   "source": [
    "A.dot(x)"
   ]
  },
  {
   "cell_type": "code",
   "execution_count": null,
   "id": "def8fb84-0b52-45f5-82bc-0627ef011f62",
   "metadata": {},
   "outputs": [],
   "source": []
  }
 ],
 "metadata": {
  "kernelspec": {
   "display_name": "Python 3 (ipykernel)",
   "language": "python",
   "name": "python3"
  },
  "language_info": {
   "codemirror_mode": {
    "name": "ipython",
    "version": 3
   },
   "file_extension": ".py",
   "mimetype": "text/x-python",
   "name": "python",
   "nbconvert_exporter": "python",
   "pygments_lexer": "ipython3",
   "version": "3.10.12"
  }
 },
 "nbformat": 4,
 "nbformat_minor": 5
}
