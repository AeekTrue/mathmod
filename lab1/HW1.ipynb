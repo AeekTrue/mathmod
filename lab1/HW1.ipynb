{
 "cells": [
  {
   "cell_type": "code",
   "execution_count": 1,
   "id": "e6e3826d",
   "metadata": {},
   "outputs": [],
   "source": [
    "from numpy import log"
   ]
  },
  {
   "cell_type": "code",
   "execution_count": 2,
   "id": "8d8c5489",
   "metadata": {},
   "outputs": [
    {
     "data": {
      "text/plain": [
       "(0.0006034832241472078, 0.04569245869496587, 0.013207501661837604)"
      ]
     },
     "execution_count": 2,
     "metadata": {},
     "output_type": "execute_result"
    }
   ],
   "source": [
    "a, b, c = (2.02, -0.27, 40.206)\n",
    "da, db, dc = (0.01, 0.01, 0.001)\n",
    "\n",
    "S = lambda a, b, c: (a ** 2 + b) / (2*c + b**3 + 3)\n",
    "dSda = lambda a, b, c: 2 * a / (2 * c + b ** 3 + 3)\n",
    "dSdb = lambda a, b, c: (2 * c + b ** 3 + 3 - (a ** 2 + b) * 3 * b ** 2) / (2 * c + b**3 + 3) ** 2\n",
    "dSdc = lambda a, b, c: 0.5 / c**2\n",
    "\n",
    "dtS2 = abs(dSda(a, b, c)) * da + abs(dSdb(a, b, c)) * db + abs(dSdc(a, b, c)) * dc\n",
    "dtS2, S(a,b,c), dtS2 / S(a,b,c)"
   ]
  },
  {
   "cell_type": "markdown",
   "id": "65f1e2a2",
   "metadata": {},
   "source": [
    "$\\Delta y^* \\approx |f'(x)| \\Delta x^*$\n",
    "\n",
    "$(e^{x^2})' = 2xe^{x^2}$\n",
    "\n",
    "На отрезке [0;1] максимум производной в 1: 2e\n",
    "\n",
    "значит $\\Delta y^*$ может быть в 2e раз больше $\\Delta x^*$"
   ]
  },
  {
   "cell_type": "code",
   "execution_count": 6,
   "id": "7e8a03e9",
   "metadata": {},
   "outputs": [
    {
     "data": {
      "text/plain": [
       "1.7931658550277327"
      ]
     },
     "execution_count": 6,
     "metadata": {},
     "output_type": "execute_result"
    }
   ],
   "source": [
    "a = 1.550\n",
    "da = 0.005\n",
    "b = 3.18\n",
    "db = 0.005\n",
    "\n",
    "z = lambda a, b: a * log(b)\n",
    "dz = lambda a,b: abs(log(b)) * da + abs(a / b) * db\n",
    "z(a, b)"
   ]
  },
  {
   "cell_type": "code",
   "execution_count": 11,
   "id": "d810dcb2",
   "metadata": {},
   "outputs": [
    {
     "data": {
      "text/plain": [
       "0.008221512902199421"
      ]
     },
     "execution_count": 11,
     "metadata": {},
     "output_type": "execute_result"
    }
   ],
   "source": [
    "dz(a,b)"
   ]
  },
  {
   "cell_type": "code",
   "execution_count": 8,
   "id": "6db1c4cf",
   "metadata": {},
   "outputs": [
    {
     "data": {
      "text/plain": [
       "0.0045849149308457415"
      ]
     },
     "execution_count": 8,
     "metadata": {},
     "output_type": "execute_result"
    }
   ],
   "source": [
    "dz(a,b) / z(a, b)"
   ]
  }
 ],
 "metadata": {
  "kernelspec": {
   "display_name": "Python 3 (ipykernel)",
   "language": "python",
   "name": "python3"
  },
  "language_info": {
   "codemirror_mode": {
    "name": "ipython",
    "version": 3
   },
   "file_extension": ".py",
   "mimetype": "text/x-python",
   "name": "python",
   "nbconvert_exporter": "python",
   "pygments_lexer": "ipython3",
   "version": "3.10.12"
  }
 },
 "nbformat": 4,
 "nbformat_minor": 5
}
