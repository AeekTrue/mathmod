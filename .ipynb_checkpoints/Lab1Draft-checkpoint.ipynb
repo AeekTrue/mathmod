{
 "cells": [
  {
   "cell_type": "code",
   "execution_count": 2,
   "id": "080faf2b",
   "metadata": {},
   "outputs": [
    {
     "data": {
      "text/plain": [
       "0.00010695126466287666"
      ]
     },
     "execution_count": 2,
     "metadata": {},
     "output_type": "execute_result"
    }
   ],
   "source": [
    "a = 12.315\n",
    "b = 0.0352\n",
    "c = 10.82\n",
    "da = 0.001\n",
    "db = 0.0001\n",
    "dc = 0.01\n",
    "d = 3* da / a  + db/ b + dc/c\n",
    "f = 10 * a * b / (a*a + c)\n",
    "dt = f * d\n",
    "dt"
   ]
  },
  {
   "cell_type": "code",
   "execution_count": 4,
   "id": "fcfbffe2",
   "metadata": {},
   "outputs": [
    {
     "data": {
      "text/plain": [
       "0.0029728422452599116"
      ]
     },
     "execution_count": 4,
     "metadata": {},
     "output_type": "execute_result"
    }
   ],
   "source": [
    "pa = (10 * b * (a*a + c) - 20*a*a*b) / (a*a + c) ** 2\n",
    "pb = 10 * a / (a**2 + c)\n",
    "pc = - 10*a*b/ (a ** 2 + c) ** 2\n",
    "dt = sum([abs(pa * da), abs(pb * db), abs(pc * dc)])\n",
    "dt / f "
   ]
  },
  {
   "cell_type": "code",
   "execution_count": null,
   "id": "572e93a0",
   "metadata": {},
   "outputs": [],
   "source": []
  }
 ],
 "metadata": {
  "kernelspec": {
   "display_name": "Python 3 (ipykernel)",
   "language": "python",
   "name": "python3"
  },
  "language_info": {
   "codemirror_mode": {
    "name": "ipython",
    "version": 3
   },
   "file_extension": ".py",
   "mimetype": "text/x-python",
   "name": "python",
   "nbconvert_exporter": "python",
   "pygments_lexer": "ipython3",
   "version": "3.10.12"
  }
 },
 "nbformat": 4,
 "nbformat_minor": 5
}
